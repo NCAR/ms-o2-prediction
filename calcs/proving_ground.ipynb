{
 "cells": [
  {
   "cell_type": "code",
   "execution_count": 1,
   "metadata": {},
   "outputs": [],
   "source": [
    "import numpy as np\n",
    "import xarray as xr\n",
    "import project as P"
   ]
  },
  {
   "cell_type": "code",
   "execution_count": 2,
   "metadata": {},
   "outputs": [],
   "source": [
    "maskedarea = xr.DataArray(np.ones((10,10)),dims=('x','y'))\n",
    "x = xr.DataArray(np.random.uniform(0,10,(10,10)),dims=('x','y'))\n",
    "y = xr.DataArray(np.random.uniform(0,10,(10,10)),dims=('x','y'))"
   ]
  },
  {
   "cell_type": "code",
   "execution_count": 5,
   "metadata": {},
   "outputs": [
    {
     "data": {
      "text/plain": [
       "array([3.14506544, 3.63601197, 3.8810039 , 3.77728939, 3.9139084 ,\n",
       "       5.37351995, 5.20890608, 4.25308291, 5.07499084, 2.61140007])"
      ]
     },
     "execution_count": 5,
     "metadata": {},
     "output_type": "execute_result"
    }
   ],
   "source": [
    "import importlib\n",
    "importlib.reload(P)\n",
    "P.rmsd(x,y,dim='x').values"
   ]
  },
  {
   "cell_type": "code",
   "execution_count": 6,
   "metadata": {},
   "outputs": [
    {
     "data": {
      "text/plain": [
       "array([5.43037362, 4.78819293, 3.41920078, 3.7135739 , 4.35106007,\n",
       "       1.80990286, 3.59151655, 4.46509538, 4.48918513, 4.61933364])"
      ]
     },
     "execution_count": 6,
     "metadata": {},
     "output_type": "execute_result"
    }
   ],
   "source": [
    "P.rmsd(x,y,dim='y').values"
   ]
  },
  {
   "cell_type": "code",
   "execution_count": 7,
   "metadata": {},
   "outputs": [
    {
     "data": {
      "text/plain": [
       "array(4.17650429)"
      ]
     },
     "execution_count": 7,
     "metadata": {},
     "output_type": "execute_result"
    }
   ],
   "source": [
    "P.rmsd(x,y,dim=['x','y']).values"
   ]
  },
  {
   "cell_type": "code",
   "execution_count": 8,
   "metadata": {},
   "outputs": [
    {
     "data": {
      "text/plain": [
       "array(4.17650429)"
      ]
     },
     "execution_count": 8,
     "metadata": {},
     "output_type": "execute_result"
    }
   ],
   "source": [
    "P.rmsd(x,y).values"
   ]
  },
  {
   "cell_type": "code",
   "execution_count": 7,
   "metadata": {},
   "outputs": [
    {
     "data": {
      "text/plain": [
       "<xarray.DataArray (region: 1, nlat: 384, nlon: 320)>\n",
       "array([[[nan, nan, ..., nan, nan],\n",
       "        [nan, nan, ..., nan, nan],\n",
       "        ...,\n",
       "        [nan, nan, ..., nan, nan],\n",
       "        [nan, nan, ..., nan, nan]]])\n",
       "Coordinates:\n",
       "  * region   (region) <U7 'CalCOFI'\n",
       "    TLAT     (nlat, nlon) float64 -79.22 -79.22 -79.22 -79.22 -79.22 -79.22 ...\n",
       "    TLONG    (nlat, nlon) float64 320.6 321.7 322.8 323.9 325.1 326.2 327.3 ...\n",
       "    ULAT     (nlat, nlon) float64 -78.95 -78.95 -78.95 -78.95 -78.95 -78.95 ...\n",
       "    ULONG    (nlat, nlon) float64 321.1 322.3 323.4 324.5 325.6 326.8 327.9 ...\n",
       "Dimensions without coordinates: nlat, nlon"
      ]
     },
     "execution_count": 7,
     "metadata": {},
     "output_type": "execute_result"
    }
   ],
   "source": [
    "%matplotlib inline\n",
    "import importlib\n",
    "\n",
    "importlib.reload(P)\n",
    "mask = P.region_mask(masked_area=True)\n",
    "mask"
   ]
  },
  {
   "cell_type": "code",
   "execution_count": 8,
   "metadata": {},
   "outputs": [
    {
     "data": {
      "text/plain": [
       "<xarray.Dataset>\n",
       "Dimensions:          (date: 68, nlat: 144, nlat_G: 384, nlon: 139, nlon_G: 320, nz_G: 60, time: 68)\n",
       "Coordinates:\n",
       "  * time             (time) int64 1948 1949 1950 1951 1952 1953 1954 1955 ...\n",
       "  * date             (date) object 1948-07-16 21:59:59 1949-07-16 21:59:59 ...\n",
       "Dimensions without coordinates: nlat, nlat_G, nlon, nlon_G, nz_G\n",
       "Data variables:\n",
       "    TLAT             (nlat, nlon) float64 ...\n",
       "    TLONG            (nlat, nlon) float64 ...\n",
       "    ULAT             (nlat, nlon) float64 ...\n",
       "    ULONG            (nlat, nlon) float64 ...\n",
       "    KMT              (nlat, nlon) float64 0.0 0.0 0.0 42.0 42.0 41.0 33.0 ...\n",
       "    KMU              (nlat, nlon) float64 ...\n",
       "    DXU              (nlat, nlon) float64 ...\n",
       "    DYU              (nlat, nlon) float64 ...\n",
       "    REGION_MASK      (nlat, nlon) float64 ...\n",
       "    TAREA            (nlat, nlon) float64 3.717e+13 3.717e+13 3.717e+13 ...\n",
       "    vol3d            (nz_G, nlat_G, nlon_G) float64 ...\n",
       "    volume_dyn       (nlat, nlon) float64 ...\n",
       "    volume_stat      (nlat, nlon) float64 ...\n",
       "    O2_zint          (time, nlat, nlon) float64 nan nan nan -0.7213 -0.9644 ...\n",
       "    O2_lat_adv_res   (time, nlat, nlon) float64 nan nan nan 0.9381 0.433 ...\n",
       "    O2_vert_adv_res  (time, nlat, nlon) float64 nan nan nan -1.447 -1.096 ...\n",
       "    O2_lat_mix       (time, nlat, nlon) float64 nan nan nan -0.2298 0.002739 ...\n",
       "    O2_dia_vmix      (time, nlat, nlon) float64 nan nan nan -0.003242 ...\n",
       "    O2_adi_vmix      (time, nlat, nlon) float64 nan nan nan -0.0004632 ...\n",
       "    O2_vmix          (time, nlat, nlon) float64 nan nan nan -0.003705 ...\n",
       "    O2_kpp_src       (time, nlat, nlon) float64 nan nan nan 0.0 0.0 0.0 0.0 ...\n",
       "    O2_prod          (time, nlat, nlon) float64 nan nan nan -2.015e-08 ...\n",
       "    O2_cons          (time, nlat, nlon) float64 nan nan nan 0.2124 0.2723 ...\n",
       "    O2_rhs_tend      (time, nlat, nlon) float64 nan nan nan -0.9552 -0.9329 ...\n",
       "    O2_sms           (time, nlat, nlon) float64 nan nan nan -0.2124 -0.2723 ...\n",
       "    O2_adv           (time, nlat, nlon) float64 nan nan nan -0.5092 -0.6635 ...\n",
       "Attributes:\n",
       "    title:    g.e11_LENS.GECOIAF.T62_g16.009"
      ]
     },
     "execution_count": 8,
     "metadata": {},
     "output_type": "execute_result"
    }
   ],
   "source": [
    "ds = P.open_ann_fosi()\n",
    "ds"
   ]
  },
  {
   "cell_type": "code",
   "execution_count": 9,
   "metadata": {},
   "outputs": [
    {
     "data": {
      "text/plain": [
       "<xarray.DataArray 'time' (time: 62)>\n",
       "array([1954., 1955., 1956., 1957., 1958., 1959., 1960., 1961., 1962., 1963.,\n",
       "       1964., 1965., 1966., 1967., 1968., 1969., 1970., 1971., 1972., 1973.,\n",
       "       1974., 1975., 1976., 1977., 1978., 1979., 1980., 1981., 1982., 1983.,\n",
       "       1984., 1985., 1986., 1987., 1988., 1989., 1990., 1991., 1992., 1993.,\n",
       "       1994., 1995., 1996., 1997., 1998., 1999., 2000., 2001., 2002., 2003.,\n",
       "       2004., 2005., 2006., 2007., 2008., 2009., 2010., 2011., 2012., 2013.,\n",
       "       2014., 2015.], dtype=float32)\n",
       "Coordinates:\n",
       "  * time     (time) float32 1954.0 1955.0 1956.0 1957.0 1958.0 1959.0 1960.0 ...\n",
       "Attributes:\n",
       "    long_name:    ensemble\n",
       "    description:  historical year corresponding to forecast month 1\n",
       "    example:      S=1954 for forecasts initialized on November 1 1954"
      ]
     },
     "execution_count": 9,
     "metadata": {},
     "output_type": "execute_result"
    }
   ],
   "source": [
    "importlib.reload(P)\n",
    "dp = P.open_ann_dple()\n",
    "dp.time"
   ]
  },
  {
   "cell_type": "code",
   "execution_count": 3,
   "metadata": {},
   "outputs": [
    {
     "name": "stdout",
     "output_type": "stream",
     "text": [
      "[1960. 1961. 1962. 1963. 1964. 1965. 1966. 1967. 1968. 1969. 1970. 1971.\n",
      " 1972. 1973. 1974. 1975. 1976. 1977. 1978. 1979. 1980. 1981. 1982. 1983.\n",
      " 1984. 1985. 1986. 1987. 1988. 1989. 1990. 1991. 1992. 1993. 1994. 1995.\n",
      " 1996. 1997. 1998. 1999. 2000. 2001. 2002. 2003. 2004. 2005. 2006. 2007.\n",
      " 2008. 2009. 2010. 2011. 2012. 2013. 2014. 2015.]\n",
      "[1960. 1961. 1962. 1963. 1964. 1965. 1966. 1967. 1968. 1969. 1970. 1971.\n",
      " 1972. 1973. 1974. 1975. 1976. 1977. 1978. 1979. 1980. 1981. 1982. 1983.\n",
      " 1984. 1985. 1986. 1987. 1988. 1989. 1990. 1991. 1992. 1993. 1994. 1995.\n",
      " 1996. 1997. 1998. 1999. 2000. 2001. 2002. 2003. 2004. 2005. 2006. 2007.\n",
      " 2008. 2009. 2010. 2011. 2012. 2013. 2014. 2015.]\n"
     ]
    }
   ],
   "source": [
    "import project as P\n",
    "import importlib\n",
    "importlib.reload(P)\n",
    "ds = P.dataview(forecast_lead=(5,7),apply_region_mask=False)\n",
    "print(ds['fosi'].time.values)\n",
    "print(ds['dp'].time.values)"
   ]
  },
  {
   "cell_type": "code",
   "execution_count": 36,
   "metadata": {},
   "outputs": [
    {
     "data": {
      "text/plain": [
       "<xarray.DataArray 'time' (time: 59)>\n",
       "array([1956.5, 1957.5, 1958.5, 1959.5, 1960.5, 1961.5, 1962.5, 1963.5, 1964.5,\n",
       "       1965.5, 1966.5, 1967.5, 1968.5, 1969.5, 1970.5, 1971.5, 1972.5, 1973.5,\n",
       "       1974.5, 1975.5, 1976.5, 1977.5, 1978.5, 1979.5, 1980.5, 1981.5, 1982.5,\n",
       "       1983.5, 1984.5, 1985.5, 1986.5, 1987.5, 1988.5, 1989.5, 1990.5, 1991.5,\n",
       "       1992.5, 1993.5, 1994.5, 1995.5, 1996.5, 1997.5, 1998.5, 1999.5, 2000.5,\n",
       "       2001.5, 2002.5, 2003.5, 2004.5, 2005.5, 2006.5, 2007.5, 2008.5, 2009.5,\n",
       "       2010.5, 2011.5, 2012.5, 2013.5, 2014.5], dtype=float32)\n",
       "Coordinates:\n",
       "  * time     (time) float32 1956.5 1957.5 1958.5 1959.5 1960.5 1961.5 1962.5 ...\n",
       "Attributes:\n",
       "    long_name:    ensemble\n",
       "    description:  historical year corresponding to forecast month 1\n",
       "    example:      S=1954 for forecasts initialized on November 1 1954"
      ]
     },
     "execution_count": 36,
     "metadata": {},
     "output_type": "execute_result"
    }
   ],
   "source": [
    "ds['dp'].time"
   ]
  },
  {
   "cell_type": "code",
   "execution_count": 3,
   "metadata": {},
   "outputs": [
    {
     "data": {
      "text/plain": [
       "<module 'project' from '/gpfs/u/home/mclong/p/o2-prediction/calcs/project.py'>"
      ]
     },
     "execution_count": 3,
     "metadata": {},
     "output_type": "execute_result"
    }
   ],
   "source": [
    "import importlib\n",
    "importlib.reload(P)\n",
    "\n"
   ]
  },
  {
   "cell_type": "code",
   "execution_count": null,
   "metadata": {},
   "outputs": [],
   "source": []
  },
  {
   "cell_type": "code",
   "execution_count": null,
   "metadata": {},
   "outputs": [],
   "source": []
  }
 ],
 "metadata": {
  "kernelspec": {
   "display_name": "Python 3",
   "language": "python",
   "name": "python3"
  },
  "language_info": {
   "codemirror_mode": {
    "name": "ipython",
    "version": 3
   },
   "file_extension": ".py",
   "mimetype": "text/x-python",
   "name": "python",
   "nbconvert_exporter": "python",
   "pygments_lexer": "ipython3",
   "version": "3.6.6"
  }
 },
 "nbformat": 4,
 "nbformat_minor": 2
}
