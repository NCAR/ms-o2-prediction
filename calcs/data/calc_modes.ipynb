{
 "cells": [
  {
   "cell_type": "code",
   "execution_count": null,
   "metadata": {},
   "outputs": [],
   "source": [
    "%matplotlib inline\n",
    "import os\n",
    "from subprocess import call\n",
    "\n",
    "import xarray as xr\n",
    "import numpy as np\n",
    "import cftime\n",
    "import dask\n",
    "\n",
    "from scipy import signal\n",
    "\n",
    "from itertools import product\n",
    "\n",
    "import cartopy\n",
    "import cartopy.crs as ccrs\n",
    "from cartopy.mpl.ticker import LongitudeFormatter, LatitudeFormatter\n",
    "import  matplotlib.pyplot as plt\n",
    "import matplotlib.gridspec as gridspec\n",
    "import cmocean\n",
    "\n",
    "from eofs.xarray import Eof\n",
    "import project as P\n"
   ]
  }
 ],
 "metadata": {
  "kernelspec": {
   "display_name": "Python 3",
   "language": "python",
   "name": "python3"
  },
  "language_info": {
   "codemirror_mode": {
    "name": "ipython",
    "version": 3
   },
   "file_extension": ".py",
   "mimetype": "text/x-python",
   "name": "python",
   "nbconvert_exporter": "python",
   "pygments_lexer": "ipython3",
   "version": "3.6.6"
  }
 },
 "nbformat": 4,
 "nbformat_minor": 2
}
