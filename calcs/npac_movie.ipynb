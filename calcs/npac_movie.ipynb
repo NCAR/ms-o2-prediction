{
 "cells": [
  {
   "cell_type": "code",
   "execution_count": 1,
   "metadata": {},
   "outputs": [],
   "source": [
    "%matplotlib inline\n",
    "import os\n",
    "from subprocess import call\n",
    "\n",
    "import xarray as xr\n",
    "import numpy as np\n",
    "import cftime\n",
    "import dask\n",
    "\n",
    "from scipy import signal\n",
    "\n",
    "from itertools import product\n",
    "\n",
    "import cartopy\n",
    "import cartopy.crs as ccrs\n",
    "import  matplotlib.pyplot as plt\n",
    "import matplotlib.gridspec as gridspec\n",
    "from mpl_toolkits.axes_grid1 import make_axes_locatable\n",
    "\n",
    "import geotools as gt\n",
    "import plottools as pt\n",
    "import project as P\n",
    "\n",
    "USER = os.environ['USER']"
   ]
  },
  {
   "cell_type": "code",
   "execution_count": 2,
   "metadata": {},
   "outputs": [],
   "source": [
    "xr_open_ds = {'chunks' : {'time':1},\n",
    "              'decode_coords' : False,\n",
    "              'decode_times' : False}\n",
    "xr.set_options(enable_cftimeindex=True)\n",
    "\n",
    "year_range = np.array((249,316))+1699\n",
    "time = [cftime.DatetimeNoLeap(year, month, 1) for year, month in \n",
    "                  product(range(year_range[0], year_range[1]+1), range(1, 13))]\n",
    "ypm = np.array([31,28,31,30,31,30,31,31,30,31,30,31])/365\n",
    "wgt = xr.DataArray(np.tile(ypm,int(np.diff(year_range)+1)),dims=('time'),coords={'time':time})\n",
    "\n",
    "np.testing.assert_allclose(wgt.groupby('time.year').sum(),1.)"
   ]
  },
  {
   "cell_type": "code",
   "execution_count": 3,
   "metadata": {},
   "outputs": [],
   "source": [
    "from dask.distributed import Client\n",
    "from dask_jobqueue import PBSCluster\n",
    "\n",
    "dask.config.set({'distributed.dashboard.link':'http://localhost:{port}/status'})\n",
    "\n",
    "# Lots of arguments to this command are set in ~/.config/dask/jobqueue.yaml\n",
    "cluster = PBSCluster(queue='regular',\n",
    "                     cores = 36,\n",
    "                     processes = 9,\n",
    "                     memory = '100GB',                     \n",
    "                     project = 'NCGD0033',\n",
    "                     walltime = '04:00:00',\n",
    "                     local_directory=f'/glade/scratch/{USER}/dask-tmp')\n",
    "client = Client(cluster)"
   ]
  },
  {
   "cell_type": "code",
   "execution_count": 4,
   "metadata": {},
   "outputs": [],
   "source": [
    "Nnodes = 4\n",
    "cluster.scale(9*Nnodes)"
   ]
  },
  {
   "cell_type": "markdown",
   "metadata": {},
   "source": [
    "Read data and compute vertical means within thermocline depth range"
   ]
  },
  {
   "cell_type": "code",
   "execution_count": 5,
   "metadata": {},
   "outputs": [],
   "source": [
    "droot = '/glade/p_old/decpred/CESM-DPLE_POPCICEhindcast'\n",
    "variables = ['O2','UVEL','VVEL']\n",
    "ds = xr.Dataset()\n",
    "for v in variables:\n",
    "    ds = xr.merge((ds,xr.open_dataset(f'{droot}/g.e11_LENS.GECOIAF.T62_g16.009.pop.h.{v}.024901-031612.nc',**xr_open_ds)))\n",
    "\n",
    "ds.time.values = time\n",
    "year = np.array([d.year for d in ds.time.values])\n",
    "yearfrac = year + np.tile(np.cumsum(ypm),np.diff(year_range)+1)\n",
    "\n",
    "ds = ds.sel(z_t=slice(200e2,600e2)).mean('z_t')\n",
    "\n",
    "grid_vars = [v for v in ds.variables if 'time' not in ds[v].dims]+['time_bound']"
   ]
  },
  {
   "cell_type": "markdown",
   "metadata": {},
   "source": [
    "Compute monthly anomalies"
   ]
  },
  {
   "cell_type": "code",
   "execution_count": 6,
   "metadata": {},
   "outputs": [],
   "source": [
    "nx = np.where((P.year_range_clim.start <= year) & (year <= P.year_range_clim.stop))[0]\n",
    "dsm = ds.drop(grid_vars).isel(time=nx).groupby('time.month').mean('time')\n",
    "dsyc = ds.groupby('time.month') - dsm\n",
    "dsyc = xr.merge((dsyc,ds.drop(variables))) # put the grid_vars back"
   ]
  },
  {
   "cell_type": "markdown",
   "metadata": {},
   "source": [
    "Compute annual means"
   ]
  },
  {
   "cell_type": "code",
   "execution_count": 7,
   "metadata": {},
   "outputs": [],
   "source": [
    "#dsy = (ds.drop(grid_vars) * wgt).groupby('time.year').sum('time')\n",
    "#dsy = xr.merge((dsy,ds.drop([v for v in ds.variables if v not in grid_vars])))"
   ]
  },
  {
   "cell_type": "markdown",
   "metadata": {},
   "source": [
    "Compute anomaly field"
   ]
  },
  {
   "cell_type": "code",
   "execution_count": 8,
   "metadata": {},
   "outputs": [],
   "source": [
    "#dsyc = xr.Dataset()\n",
    "#for v in dsy.variables:\n",
    "#    if 'year' in dsy[v].dims and v != 'year':\n",
    "#        dsyc[v] = dsy[v] - dsy[v].sel(year=P.year_range_clim).mean('year')\n",
    "#    else:\n",
    "#        dsyc[v] = dsy[v]"
   ]
  },
  {
   "cell_type": "markdown",
   "metadata": {},
   "source": [
    "Compute regional mean"
   ]
  },
  {
   "cell_type": "code",
   "execution_count": 9,
   "metadata": {},
   "outputs": [],
   "source": [
    "dsyr = P.regional_mean(dsyc)\n",
    "dsyr = dsyr.compute()\n"
   ]
  },
  {
   "cell_type": "markdown",
   "metadata": {},
   "source": [
    "Make a plot"
   ]
  },
  {
   "cell_type": "code",
   "execution_count": 11,
   "metadata": {},
   "outputs": [
    {
     "name": "stdout",
     "output_type": "stream",
     "text": [
      "1/816 2/816 3/816 4/816 5/816 6/816 7/816 8/816 9/816 10/816 11/816 12/816 13/816 14/816 15/816 16/816 17/816 18/816 19/816 20/816 21/816 22/816 23/816 24/816 25/816 26/816 27/816 28/816 29/816 30/816 31/816 32/816 33/816 34/816 35/816 36/816 37/816 38/816 39/816 40/816 41/816 42/816 43/816 44/816 45/816 46/816 47/816 48/816 49/816 50/816 51/816 52/816 53/816 54/816 55/816 56/816 57/816 58/816 59/816 60/816 61/816 62/816 63/816 64/816 65/816 66/816 67/816 68/816 69/816 70/816 71/816 72/816 73/816 74/816 75/816 76/816 77/816 78/816 79/816 80/816 81/816 82/816 83/816 84/816 85/816 86/816 87/816 88/816 89/816 90/816 91/816 92/816 93/816 94/816 95/816 96/816 97/816 98/816 99/816 100/816 101/816 102/816 103/816 104/816 105/816 106/816 107/816 108/816 109/816 110/816 111/816 112/816 113/816 114/816 115/816 116/816 117/816 118/816 119/816 120/816 121/816 122/816 123/816 124/816 125/816 126/816 127/816 128/816 129/816 130/816 131/816 132/816 133/816 134/816 135/816 136/816 137/816 138/816 139/816 140/816 141/816 142/816 143/816 144/816 145/816 146/816 147/816 148/816 149/816 150/816 151/816 152/816 153/816 154/816 155/816 156/816 157/816 158/816 159/816 160/816 161/816 162/816 163/816 164/816 165/816 166/816 167/816 168/816 169/816 170/816 171/816 172/816 173/816 174/816 175/816 176/816 177/816 178/816 179/816 180/816 181/816 182/816 183/816 184/816 185/816 186/816 187/816 188/816 189/816 190/816 191/816 192/816 193/816 194/816 195/816 196/816 197/816 198/816 199/816 200/816 201/816 202/816 203/816 204/816 205/816 206/816 207/816 208/816 209/816 210/816 211/816 212/816 213/816 214/816 215/816 216/816 217/816 218/816 219/816 220/816 221/816 222/816 223/816 224/816 225/816 226/816 227/816 228/816 229/816 230/816 231/816 232/816 233/816 234/816 235/816 236/816 237/816 238/816 239/816 240/816 241/816 242/816 243/816 244/816 245/816 246/816 247/816 248/816 249/816 250/816 251/816 252/816 253/816 254/816 255/816 256/816 257/816 258/816 259/816 260/816 261/816 262/816 263/816 264/816 265/816 266/816 267/816 268/816 269/816 270/816 271/816 272/816 273/816 274/816 275/816 276/816 277/816 278/816 279/816 280/816 281/816 282/816 283/816 284/816 285/816 286/816 287/816 288/816 289/816 290/816 291/816 292/816 293/816 294/816 295/816 296/816 297/816 298/816 299/816 300/816 301/816 302/816 303/816 304/816 305/816 306/816 307/816 308/816 309/816 310/816 311/816 312/816 313/816 314/816 315/816 316/816 317/816 318/816 319/816 320/816 321/816 322/816 323/816 324/816 325/816 326/816 327/816 328/816 329/816 330/816 331/816 332/816 333/816 334/816 335/816 336/816 337/816 338/816 339/816 340/816 341/816 342/816 343/816 344/816 345/816 346/816 347/816 348/816 349/816 350/816 351/816 352/816 353/816 354/816 355/816 356/816 357/816 358/816 359/816 360/816 361/816 362/816 363/816 364/816 365/816 366/816 367/816 368/816 369/816 370/816 371/816 372/816 373/816 374/816 375/816 376/816 377/816 378/816 379/816 380/816 381/816 382/816 383/816 384/816 385/816 386/816 387/816 388/816 389/816 390/816 391/816 392/816 393/816 394/816 395/816 396/816 397/816 398/816 399/816 400/816 401/816 402/816 403/816 404/816 405/816 406/816 407/816 408/816 409/816 410/816 411/816 412/816 413/816 414/816 415/816 416/816 417/816 418/816 419/816 420/816 421/816 422/816 423/816 424/816 425/816 426/816 427/816 428/816 429/816 430/816 431/816 432/816 433/816 434/816 435/816 436/816 437/816 438/816 439/816 440/816 441/816 442/816 443/816 444/816 445/816 446/816 447/816 448/816 449/816 450/816 451/816 452/816 453/816 454/816 455/816 456/816 457/816 458/816 459/816 460/816 461/816 462/816 463/816 464/816 465/816 466/816 467/816 468/816 469/816 470/816 471/816 472/816 473/816 474/816 475/816 476/816 477/816 478/816 479/816 480/816 481/816 482/816 483/816 484/816 485/816 486/816 487/816 488/816 489/816 490/816 491/816 492/816 493/816 494/816 495/816 496/816 497/816 498/816 499/816 500/816 501/816 502/816 503/816 504/816 505/816 506/816 507/816 508/816 509/816 510/816 511/816 512/816 513/816 514/816 515/816 516/816 517/816 518/816 519/816 520/816 521/816 522/816 523/816 524/816 525/816 526/816 527/816 528/816 529/816 530/816 531/816 532/816 533/816 534/816 535/816 536/816 537/816 538/816 539/816 540/816 541/816 542/816 543/816 544/816 545/816 546/816 547/816 548/816 549/816 550/816 551/816 552/816 553/816 554/816 555/816 556/816 557/816 558/816 559/816 560/816 561/816 562/816 563/816 564/816 565/816 566/816 567/816 568/816 569/816 570/816 571/816 572/816 573/816 574/816 575/816 576/816 577/816 578/816 579/816 580/816 581/816 582/816 583/816 584/816 585/816 586/816 587/816 588/816 589/816 590/816 591/816 592/816 593/816 594/816 595/816 596/816 597/816 598/816 599/816 600/816 601/816 602/816 603/816 604/816 605/816 606/816 607/816 608/816 609/816 610/816 611/816 612/816 613/816 614/816 615/816 616/816 617/816 618/816 619/816 620/816 621/816 622/816 623/816 624/816 625/816 626/816 627/816 628/816 629/816 630/816 631/816 632/816 633/816 634/816 635/816 636/816 637/816 638/816 639/816 640/816 641/816 642/816 643/816 644/816 645/816 646/816 647/816 648/816 649/816 650/816 651/816 652/816 653/816 654/816 655/816 656/816 657/816 658/816 659/816 660/816 661/816 662/816 663/816 664/816 665/816 666/816 667/816 668/816 669/816 670/816 671/816 672/816 673/816 674/816 675/816 676/816 677/816 678/816 679/816 680/816 681/816 682/816 683/816 684/816 685/816 686/816 687/816 688/816 689/816 690/816 691/816 692/816 693/816 694/816 695/816 696/816 697/816 698/816 699/816 700/816 701/816 702/816 703/816 704/816 705/816 706/816 707/816 708/816 709/816 710/816 711/816 712/816 713/816 714/816 715/816 716/816 717/816 718/816 719/816 720/816 721/816 722/816 723/816 724/816 725/816 726/816 727/816 728/816 729/816 730/816 731/816 732/816 733/816 734/816 735/816 736/816 737/816 738/816 739/816 740/816 741/816 742/816 743/816 744/816 745/816 746/816 747/816 748/816 749/816 750/816 751/816 752/816 753/816 754/816 755/816 756/816 757/816 758/816 759/816 760/816 761/816 762/816 763/816 764/816 765/816 766/816 767/816 768/816 769/816 770/816 771/816 772/816 773/816 774/816 775/816 776/816 777/816 778/816 779/816 780/816 781/816 782/816 783/816 784/816 785/816 786/816 787/816 788/816 789/816 790/816 791/816 792/816 793/816 794/816 795/816 796/816 797/816 798/816 799/816 800/816 801/816 802/816 803/816 804/816 805/816 806/816 807/816 808/816 809/816 810/816 811/816 812/816 813/816 814/816 815/816 816/816 "
     ]
    },
    {
     "data": {
      "text/plain": [
       "{'divide': 'warn', 'over': 'warn', 'under': 'ignore', 'invalid': 'ignore'}"
      ]
     },
     "execution_count": 11,
     "metadata": {},
     "output_type": "execute_result"
    }
   ],
   "source": [
    "old_err_settings = np.seterr(invalid='ignore')\n",
    "\n",
    "extent = [120,260,10,65]\n",
    "prj = ccrs.Mercator(central_longitude=np.mean(extent[0:2]),\n",
    "                    min_latitude=extent[2],\n",
    "                    max_latitude=extent[3])\n",
    "cf_specsa = {'levels':np.arange(-20,25,5),\n",
    "            'cmap':'PRGn',\n",
    "            #'norm':norm_o2,\n",
    "            'extend':'both'} \n",
    "\n",
    "rx,ry = P.region_box()\n",
    "\n",
    "norm_o2 = pt.MidPointNorm(midpoint=50.)\n",
    "cf_specs = {'levels':[0,10,20,30,40,50,60,80,100,125,150,175,200,225,250,275,300],\n",
    "            'cmap':'PRGn',\n",
    "            'norm':norm_o2,\n",
    "            'extend':'both'}\n",
    "dirf = 'fig/n-pac-movie'\n",
    "if not os.path.exists(dirf):\n",
    "    call(['mkdir','-p',dirf])\n",
    "\n",
    "#-- loop over time\n",
    "for i,d in enumerate(ds.time):\n",
    "    print(f'{i+1}/{len(ds.time)} ',end='')\n",
    "    \n",
    "    \n",
    "    if i != 12: continue\n",
    "        \n",
    "    #-- canvas\n",
    "    fig = plt.figure(figsize=(12,6))\n",
    "    gs = gridspec.GridSpec(6, 8)\n",
    "\n",
    "    #-------------------------------------------------\n",
    "    #-- Axes 1: full field\n",
    "    ax = fig.add_subplot(gs[0:4,0:4],projection=prj)    \n",
    "    ax.set_extent(extent)    \n",
    "    lon,lat,field = pt.adjust_pop_grid(ds.TLONG.values,ds.TLAT.values,ds['O2'].isel(time=i).values)\n",
    "    lon,lat,uvel = pt.adjust_pop_grid(ds.TLONG.values,ds.TLAT.values,ds['UVEL'].isel(time=i).values)\n",
    "    lon,lat,vvel = pt.adjust_pop_grid(ds.TLONG.values,ds.TLAT.values,ds['VVEL'].isel(time=i).values)\n",
    "    cf = ax.contourf(lon,lat,field,**cf_specs,transform=ccrs.PlateCarree())    \n",
    "    sp = ax.streamplot(lon,lat,uvel,vvel,\n",
    "                   linewidth=0.2,\n",
    "                   arrowsize = 0.25,\n",
    "                   density=5,\n",
    "                   color='k',\n",
    "                   transform=ccrs.PlateCarree())\n",
    "    ax.plot(rx,ry,marker=None,linewidth=1,color='#d95f02',transform=ccrs.PlateCarree())\n",
    "    land = ax.add_feature(cartopy.feature.NaturalEarthFeature('physical','land','110m',\n",
    "                  edgecolor='face',\n",
    "                  facecolor='gray'),zorder=100)\n",
    "\n",
    "    cb = plt.colorbar(cf,shrink=0.65)   \n",
    "    ax.set_title('O$_2$ concentration',loc='center')\n",
    "    cb.ax.set_title('mmol m$^{-3}$',loc='left')\n",
    "\n",
    "    #-------------------------------------------------    \n",
    "    #-- Axes 2: anomaly field\n",
    "    ax = fig.add_subplot(gs[0:4,4:8],projection=prj)    \n",
    "    ax.set_extent(extent)\n",
    "    \n",
    "    lon,lat,field = pt.adjust_pop_grid(dsyc.TLONG.values,dsyc.TLAT.values,dsyc['O2'].isel(time=i).values)\n",
    "    cf = ax.contourf(lon,lat,field,**cf_specsa,transform=ccrs.PlateCarree())\n",
    "    \n",
    "    #lon,lat,uvel = pt.adjust_pop_grid(ds.TLONG.values,ds.TLAT.values,ds['UVEL'].isel(time=i).values)\n",
    "    #lon,lat,vvel = pt.adjust_pop_grid(ds.TLONG.values,ds.TLAT.values,ds['VVEL'].isel(time=i).values)\n",
    "    sp = ax.streamplot(lon,lat,uvel,vvel,\n",
    "                   linewidth=0.2,\n",
    "                   arrowsize = 0.25,\n",
    "                   density=5,\n",
    "                   color='k',\n",
    "                   transform=ccrs.PlateCarree())\n",
    "    ax.plot(rx,ry,marker=None,linewidth=1,color='#d95f02',transform=ccrs.PlateCarree())\n",
    "    land = ax.add_feature(cartopy.feature.NaturalEarthFeature('physical','land','110m',\n",
    "                  edgecolor='face',\n",
    "                  facecolor='gray'),zorder=100)\n",
    "    \n",
    "    cb = plt.colorbar(cf,shrink=0.65)\n",
    "    ax.set_title('O$_2$ anomaly',loc='center')\n",
    "    cb.ax.set_title('mmol m$^{-3}$',loc='left')\n",
    "\n",
    "    #-------------------------------------------------    \n",
    "    #-- Axes 3: time locator\n",
    "    ax = fig.add_subplot(gs[4:,1:7])\n",
    "    ax.plot(yearfrac,dsyr.O2,color='#377eb8')\n",
    "    ax.axhline(0,color='k',linewidth=0.5,zorder=-10)\n",
    "    ax.axvline(yearfrac[i],color='#d95f02')\n",
    "    ax.set_ylabel('O$_2$ anomaly [mmol m$^{-3}$]')\n",
    "\n",
    "    plt.savefig(f'{dirf}/{i:03d}.png',dpi=300,bbox_inches='tight')\n",
    "    plt.close()\n",
    "    \n",
    "np.seterr(**old_err_settings)"
   ]
  },
  {
   "cell_type": "code",
   "execution_count": null,
   "metadata": {},
   "outputs": [],
   "source": []
  }
 ],
 "metadata": {
  "kernelspec": {
   "display_name": "Python 3",
   "language": "python",
   "name": "python3"
  },
  "language_info": {
   "codemirror_mode": {
    "name": "ipython",
    "version": 3
   },
   "file_extension": ".py",
   "mimetype": "text/x-python",
   "name": "python",
   "nbconvert_exporter": "python",
   "pygments_lexer": "ipython3",
   "version": "3.6.6"
  }
 },
 "nbformat": 4,
 "nbformat_minor": 2
}
