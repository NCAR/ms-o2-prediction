{
 "cells": [
  {
   "cell_type": "code",
   "execution_count": 2,
   "metadata": {},
   "outputs": [],
   "source": [
    "%matplotlib inline\n",
    "\n",
    "import os\n",
    "import sys\n",
    "from subprocess import call\n",
    "from datetime import datetime,timedelta\n",
    "\n",
    "import socket\n",
    "\n",
    "import xarray as xr\n",
    "import numpy as np\n",
    "\n",
    "import cartopy\n",
    "import cartopy.crs as ccrs\n",
    "import matplotlib.pyplot as plt"
   ]
  },
  {
   "cell_type": "code",
   "execution_count": 3,
   "metadata": {},
   "outputs": [],
   "source": [
    "scratch = '/glade/scratch/'+os.environ['USER']\n",
    "droot = '/glade/p/cgd/oce/projects/DPLE_O2/wod2013'"
   ]
  },
  {
   "cell_type": "code",
   "execution_count": 4,
   "metadata": {},
   "outputs": [],
   "source": [
    "extraction = 'global_req_temp_salt_o2'\n",
    "max_depth = 2000."
   ]
  },
  {
   "cell_type": "code",
   "execution_count": 48,
   "metadata": {},
   "outputs": [
    {
     "name": "stdout",
     "output_type": "stream",
     "text": [
      "<xarray.DataArray 'year' (time: 57)>\n",
      "array([1958, 1959, 1960, 1961, 1962, 1963, 1964, 1965, 1966, 1967, 1968, 1969,\n",
      "       1970, 1971, 1972, 1973, 1974, 1975, 1976, 1977, 1978, 1979, 1980, 1981,\n",
      "       1982, 1983, 1984, 1985, 1986, 1987, 1988, 1989, 1990, 1991, 1992, 1993,\n",
      "       1994, 1995, 1996, 1997, 1998, 1999, 2000, 2001, 2002, 2003, 2004, 2005,\n",
      "       2006, 2007, 2008, 2009, 2010, 2011, 2012, 2013, 2014], dtype=int32)\n",
      "Coordinates:\n",
      "  * time     (time) int64 0 365 731 1096 1461 1826 2192 2557 2922 3287 3653 ...\n"
     ]
    },
    {
     "data": {
      "text/plain": [
       "<xarray.Dataset>\n",
       "Dimensions:          (depth: 67, lat: 13, lon: 11, time: 57)\n",
       "Coordinates:\n",
       "  * depth            (depth) float64 0.0 5.0 10.0 15.0 20.0 25.0 30.0 35.0 ...\n",
       "  * lat              (lat) float64 25.5 26.5 27.5 28.5 29.5 30.5 31.5 32.5 ...\n",
       "  * lon              (lon) float64 234.5 235.5 236.5 237.5 238.5 239.5 240.5 ...\n",
       "  * time             (time) int64 0 365 731 1096 1461 1826 2192 2557 2922 ...\n",
       "Data variables:\n",
       "    area             (lat, lon) float64 1.116e+10 1.116e+10 1.116e+10 ...\n",
       "    dz               (depth) float64 2.5 5.0 5.0 5.0 5.0 5.0 5.0 5.0 5.0 5.0 ...\n",
       "    oxygen           (time, depth, lat, lon) float32 nan nan nan nan nan nan ...\n",
       "    oxygen_cnt       (time, depth, lat, lon) int32 0 0 0 0 0 0 0 0 1 5 3 0 0 ...\n",
       "    salinity         (time, depth, lat, lon) float32 nan nan nan nan nan nan ...\n",
       "    salinity_cnt     (time, depth, lat, lon) int32 0 0 0 0 0 0 0 0 1 5 3 0 0 ...\n",
       "    temperature      (time, depth, lat, lon) float32 nan nan nan nan nan nan ...\n",
       "    temperature_cnt  (time, depth, lat, lon) int32 0 0 0 0 0 0 0 0 1 5 3 0 0 ...\n",
       "    year             (time) int32 1958 1959 1960 1961 1962 1963 1964 1965 ..."
      ]
     },
     "execution_count": 48,
     "metadata": {},
     "output_type": "execute_result"
    }
   ],
   "source": [
    "ds = xr.open_dataset(os.path.join(droot,extraction+'.gridded.z.anom_wrt_woa.ann.nc'),decode_times=False)\n",
    "\n",
    "#-- add dz which was not created properly\n",
    "from wod_info import standard_z,standard_z_depth_bounds\n",
    "standard_z_selection = (standard_z<=max_depth)\n",
    "depth_coord = standard_z[standard_z_selection]\n",
    "dz = np.diff(standard_z_depth_bounds[standard_z_selection,:],axis=1)[:,0]\n",
    "ds.dz.values = dz\n",
    "\n",
    "ds = ds.isel(time=np.where((1958<=ds.year)&(ds.year<=2014))[0])\n",
    "print ds.year\n",
    "\n",
    "#-- select the north pacific\n",
    "ds.lon.values = np.where(ds.lon<0.,ds.lon+360.,ds.lon)\n",
    "ds = ds.roll(lon=180).sel(lat=slice(25,38),lon=slice(360-126,360-115))\n",
    "\n",
    "ds"
   ]
  },
  {
   "cell_type": "code",
   "execution_count": 49,
   "metadata": {},
   "outputs": [
    {
     "data": {
      "text/plain": [
       "<xarray.Dataset>\n",
       "Dimensions:          (depth: 3, lat: 13, lon: 11, time: 57)\n",
       "Coordinates:\n",
       "  * depth            (depth) float64 250.0 275.0 300.0\n",
       "  * lat              (lat) float64 25.5 26.5 27.5 28.5 29.5 30.5 31.5 32.5 ...\n",
       "  * lon              (lon) float64 234.5 235.5 236.5 237.5 238.5 239.5 240.5 ...\n",
       "  * time             (time) int64 0 365 731 1096 1461 1826 2192 2557 2922 ...\n",
       "Data variables:\n",
       "    area             (lat, lon) float64 1.116e+10 1.116e+10 1.116e+10 ...\n",
       "    dz               (depth) float64 25.0 25.0 25.0\n",
       "    oxygen           (time, depth, lat, lon) float32 nan nan nan nan nan nan ...\n",
       "    oxygen_cnt       (time, depth, lat, lon) int32 0 0 0 0 0 0 0 0 1 5 3 0 0 ...\n",
       "    salinity         (time, depth, lat, lon) float32 nan nan nan nan nan nan ...\n",
       "    salinity_cnt     (time, depth, lat, lon) int32 0 0 0 0 0 0 0 0 1 5 3 0 0 ...\n",
       "    temperature      (time, depth, lat, lon) float32 nan nan nan nan nan nan ...\n",
       "    temperature_cnt  (time, depth, lat, lon) int32 0 0 0 0 0 0 0 0 1 5 3 0 0 ...\n",
       "    year             (time) int32 1958 1959 1960 1961 1962 1963 1964 1965 ..."
      ]
     },
     "execution_count": 49,
     "metadata": {},
     "output_type": "execute_result"
    }
   ],
   "source": [
    "dsz = ds.sel(depth=slice(250,300))\n",
    "dsz"
   ]
  },
  {
   "cell_type": "code",
   "execution_count": 65,
   "metadata": {},
   "outputs": [
    {
     "data": {
      "text/plain": [
       "(u'time', u'depth', u'lat', u'lon')"
      ]
     },
     "execution_count": 65,
     "metadata": {},
     "output_type": "execute_result"
    }
   ],
   "source": [
    "vol = dsz.oxygen.notnull() * dsz.dz * dsz.area\n",
    "wgt = vol / vol.sum(dim=['lon','lat','depth'])\n",
    "wgt.dims"
   ]
  },
  {
   "cell_type": "code",
   "execution_count": 66,
   "metadata": {},
   "outputs": [
    {
     "data": {
      "text/plain": [
       "<xarray.DataArray (time: 57)>\n",
       "array([ -1.895859,  -4.437143,  -5.116253,  -3.563969,  -7.098904,   5.046811,\n",
       "         0.266453,   3.625783,   3.88154 ,   3.427526,   5.140924,   3.756931,\n",
       "         9.14587 ,   0.693454,   4.559869,   7.175574,   9.267105,   8.374403,\n",
       "        10.197183,   4.397628,   9.978207,   1.207057,   5.755819,   2.98838 ,\n",
       "         2.2819  ,  15.830297,  14.650362,   8.851666,   7.515615,   7.329663,\n",
       "         7.151886,   5.702598,   9.40545 ,  11.340948,  16.098056,  13.957108,\n",
       "        11.756133,  15.621343,  12.055873,   5.240539,  10.918307,   5.258644,\n",
       "        -1.24029 ,  -2.790829,  -4.8348  ,  -9.193483,  -8.435562,  -8.666781,\n",
       "       -12.644979,  -8.824573, -14.267479, -14.991877, -10.223631, -18.740227,\n",
       "       -24.757753, -19.433525, -10.497008])\n",
       "Coordinates:\n",
       "  * time     (time) int32 1958 1959 1960 1961 1962 1963 1964 1965 1966 1967 ..."
      ]
     },
     "execution_count": 66,
     "metadata": {},
     "output_type": "execute_result"
    }
   ],
   "source": [
    "o2 = (dsz.oxygen * wgt).sum(dim=['lon','lat','depth'])\n",
    "o2.time.values = dsz.year\n",
    "o2"
   ]
  },
  {
   "cell_type": "code",
   "execution_count": 67,
   "metadata": {},
   "outputs": [
    {
     "data": {
      "text/plain": [
       "<matplotlib.lines.Line2D at 0x7efe94623690>"
      ]
     },
     "execution_count": 67,
     "metadata": {},
     "output_type": "execute_result"
    },
    {
     "data": {
      "image/png": "[encoded data removed]",
      "text/plain": [
       "<matplotlib.figure.Figure at 0x7efe94598950>"
      ]
     },
     "metadata": {},
     "output_type": "display_data"
    }
   ],
   "source": [
    "o2.plot()\n",
    "plt.axhline(0,color='k',linewidth=0.5)"
   ]
  },
  {
   "cell_type": "markdown",
   "metadata": {},
   "source": []
  }
 ],
 "metadata": {
  "kernelspec": {
   "display_name": "Python 3",
   "language": "python",
   "name": "python3"
  },
  "language_info": {
   "codemirror_mode": {
    "name": "ipython",
    "version": 3
   },
   "file_extension": ".py",
   "mimetype": "text/x-python",
   "name": "python",
   "nbconvert_exporter": "python",
   "pygments_lexer": "ipython3",
   "version": "3.6.6"
  }
 },
 "nbformat": 4,
 "nbformat_minor": 2
}
